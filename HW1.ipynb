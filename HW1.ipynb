{
 "cells": [
  {
   "cell_type": "markdown",
   "id": "a3229681",
   "metadata": {},
   "source": [
    "# HW1\n",
    "- Išsirinkti duomenų rinkinį, su kuriuo bus dirbama visą semestrą. Rekomenduoju, kad rinkinyje būtų daugiau, negu 5 dimensijos, ir pakankamai stebinių.\n",
    "\n",
    "- Pabandykite suformuluoti klausimus, į kuriuos tikitės rasti atsakymus.\n",
    "\n",
    "- Pabandykite pagaminti grafikus, kurie padėtų į juos atsakyti.\n",
    "\n",
    "- Paruoškite skaidres, kur paaiškintumėt duomenis, klausimus, problemas, rezultatus."
   ]
  },
  {
   "cell_type": "code",
   "execution_count": 1,
   "id": "1745c03e",
   "metadata": {},
   "outputs": [],
   "source": [
    "import pandas as pd\n",
    "names=['Area', 'Room', 'Parking', 'Warehouse', 'Elevator', 'Address', 'Price_Tomans', 'Price_USD']\n",
    "rinkinys = pd.read_csv(\"rinkinys.csv\", names=names, header=0)"
   ]
  },
  {
   "cell_type": "code",
   "execution_count": 2,
   "id": "fdf73c35",
   "metadata": {},
   "outputs": [
    {
     "data": {
      "text/plain": [
       "(3469, 8)"
      ]
     },
     "execution_count": 2,
     "metadata": {},
     "output_type": "execute_result"
    }
   ],
   "source": [
    "#House Price (Tehran, Iran)\n",
    "rinkinys.shape"
   ]
  },
  {
   "cell_type": "code",
   "execution_count": 3,
   "id": "31a62107",
   "metadata": {},
   "outputs": [
    {
     "data": {
      "text/html": [
       "<div>\n",
       "<style scoped>\n",
       "    .dataframe tbody tr th:only-of-type {\n",
       "        vertical-align: middle;\n",
       "    }\n",
       "\n",
       "    .dataframe tbody tr th {\n",
       "        vertical-align: top;\n",
       "    }\n",
       "\n",
       "    .dataframe thead th {\n",
       "        text-align: right;\n",
       "    }\n",
       "</style>\n",
       "<table border=\"1\" class=\"dataframe\">\n",
       "  <thead>\n",
       "    <tr style=\"text-align: right;\">\n",
       "      <th></th>\n",
       "      <th>Area</th>\n",
       "      <th>Room</th>\n",
       "      <th>Parking</th>\n",
       "      <th>Warehouse</th>\n",
       "      <th>Elevator</th>\n",
       "      <th>Address</th>\n",
       "      <th>Price_Tomans</th>\n",
       "      <th>Price_USD</th>\n",
       "    </tr>\n",
       "  </thead>\n",
       "  <tbody>\n",
       "    <tr>\n",
       "      <th>0</th>\n",
       "      <td>63</td>\n",
       "      <td>1</td>\n",
       "      <td>Yra</td>\n",
       "      <td>Yra</td>\n",
       "      <td>Yra</td>\n",
       "      <td>Shahran</td>\n",
       "      <td>1850000000</td>\n",
       "      <td>61666.67</td>\n",
       "    </tr>\n",
       "    <tr>\n",
       "      <th>1</th>\n",
       "      <td>60</td>\n",
       "      <td>1</td>\n",
       "      <td>Yra</td>\n",
       "      <td>Yra</td>\n",
       "      <td>Yra</td>\n",
       "      <td>Shahran</td>\n",
       "      <td>1850000000</td>\n",
       "      <td>61666.67</td>\n",
       "    </tr>\n",
       "    <tr>\n",
       "      <th>2</th>\n",
       "      <td>79</td>\n",
       "      <td>2</td>\n",
       "      <td>Yra</td>\n",
       "      <td>Yra</td>\n",
       "      <td>Yra</td>\n",
       "      <td>Pardis</td>\n",
       "      <td>550000000</td>\n",
       "      <td>18333.33</td>\n",
       "    </tr>\n",
       "    <tr>\n",
       "      <th>3</th>\n",
       "      <td>95</td>\n",
       "      <td>2</td>\n",
       "      <td>Yra</td>\n",
       "      <td>Yra</td>\n",
       "      <td>Yra</td>\n",
       "      <td>Shahrake Qods</td>\n",
       "      <td>902500000</td>\n",
       "      <td>30083.33</td>\n",
       "    </tr>\n",
       "    <tr>\n",
       "      <th>4</th>\n",
       "      <td>123</td>\n",
       "      <td>2</td>\n",
       "      <td>Yra</td>\n",
       "      <td>Yra</td>\n",
       "      <td>Yra</td>\n",
       "      <td>Shahrake Gharb</td>\n",
       "      <td>7000000000</td>\n",
       "      <td>233333.33</td>\n",
       "    </tr>\n",
       "  </tbody>\n",
       "</table>\n",
       "</div>"
      ],
      "text/plain": [
       "   Area  Room Parking Warehouse Elevator         Address  Price_Tomans  \\\n",
       "0    63     1     Yra       Yra      Yra         Shahran    1850000000   \n",
       "1    60     1     Yra       Yra      Yra         Shahran    1850000000   \n",
       "2    79     2     Yra       Yra      Yra          Pardis     550000000   \n",
       "3    95     2     Yra       Yra      Yra   Shahrake Qods     902500000   \n",
       "4   123     2     Yra       Yra      Yra  Shahrake Gharb    7000000000   \n",
       "\n",
       "   Price_USD  \n",
       "0   61666.67  \n",
       "1   61666.67  \n",
       "2   18333.33  \n",
       "3   30083.33  \n",
       "4  233333.33  "
      ]
     },
     "execution_count": 3,
     "metadata": {},
     "output_type": "execute_result"
    }
   ],
   "source": [
    "rinkinys.head()"
   ]
  },
  {
   "cell_type": "code",
   "execution_count": 4,
   "id": "a43c49c9",
   "metadata": {},
   "outputs": [
    {
     "name": "stdout",
     "output_type": "stream",
     "text": [
      "<class 'pandas.core.frame.DataFrame'>\n",
      "RangeIndex: 3469 entries, 0 to 3468\n",
      "Data columns (total 8 columns):\n",
      " #   Column        Non-Null Count  Dtype  \n",
      "---  ------        --------------  -----  \n",
      " 0   Area          3469 non-null   int64  \n",
      " 1   Room          3469 non-null   int64  \n",
      " 2   Parking       3469 non-null   object \n",
      " 3   Warehouse     3469 non-null   object \n",
      " 4   Elevator      3469 non-null   object \n",
      " 5   Address       3446 non-null   object \n",
      " 6   Price_Tomans  3469 non-null   int64  \n",
      " 7   Price_USD     3469 non-null   float64\n",
      "dtypes: float64(1), int64(3), object(4)\n",
      "memory usage: 216.9+ KB\n"
     ]
    }
   ],
   "source": [
    "rinkinys.info()"
   ]
  },
  {
   "cell_type": "code",
   "execution_count": 5,
   "id": "62400366",
   "metadata": {},
   "outputs": [],
   "source": [
    "#https://www.ritchieng.com/pandas-changing-datatype/\n",
    "rinkinys['Room'] = rinkinys.Room.astype(float)\n",
    "rinkinys['Price_Tomans'] = rinkinys.Price_Tomans.astype(float)"
   ]
  },
  {
   "cell_type": "code",
   "execution_count": 6,
   "id": "b061d10e",
   "metadata": {},
   "outputs": [
    {
     "name": "stdout",
     "output_type": "stream",
     "text": [
      "<class 'pandas.core.frame.DataFrame'>\n",
      "RangeIndex: 3469 entries, 0 to 3468\n",
      "Data columns (total 8 columns):\n",
      " #   Column        Non-Null Count  Dtype  \n",
      "---  ------        --------------  -----  \n",
      " 0   Area          3469 non-null   int64  \n",
      " 1   Room          3469 non-null   float64\n",
      " 2   Parking       3469 non-null   object \n",
      " 3   Warehouse     3469 non-null   object \n",
      " 4   Elevator      3469 non-null   object \n",
      " 5   Address       3446 non-null   object \n",
      " 6   Price_Tomans  3469 non-null   float64\n",
      " 7   Price_USD     3469 non-null   float64\n",
      "dtypes: float64(3), int64(1), object(4)\n",
      "memory usage: 216.9+ KB\n"
     ]
    }
   ],
   "source": [
    "rinkinys.info()"
   ]
  },
  {
   "cell_type": "code",
   "execution_count": 7,
   "id": "5d2fef62",
   "metadata": {},
   "outputs": [
    {
     "data": {
      "text/plain": [
       "Area             0\n",
       "Room             0\n",
       "Parking          0\n",
       "Warehouse        0\n",
       "Elevator         0\n",
       "Address         23\n",
       "Price_Tomans     0\n",
       "Price_USD        0\n",
       "dtype: int64"
      ]
     },
     "execution_count": 7,
     "metadata": {},
     "output_type": "execute_result"
    }
   ],
   "source": [
    "pd.isnull(rinkinys).sum()"
   ]
  },
  {
   "cell_type": "code",
   "execution_count": 8,
   "id": "9ff300d9",
   "metadata": {},
   "outputs": [],
   "source": [
    "nrinkinys = pd.DataFrame(rinkinys)\n",
    "nrinkinys.dropna(inplace=True)"
   ]
  },
  {
   "cell_type": "code",
   "execution_count": 9,
   "id": "3c71a4ba",
   "metadata": {},
   "outputs": [
    {
     "data": {
      "text/plain": [
       "(3446, 8)"
      ]
     },
     "execution_count": 9,
     "metadata": {},
     "output_type": "execute_result"
    }
   ],
   "source": [
    "nrinkinys.shape"
   ]
  },
  {
   "cell_type": "code",
   "execution_count": 10,
   "id": "acc7557e",
   "metadata": {},
   "outputs": [
    {
     "data": {
      "text/plain": [
       "Area            0\n",
       "Room            0\n",
       "Parking         0\n",
       "Warehouse       0\n",
       "Elevator        0\n",
       "Address         0\n",
       "Price_Tomans    0\n",
       "Price_USD       0\n",
       "dtype: int64"
      ]
     },
     "execution_count": 10,
     "metadata": {},
     "output_type": "execute_result"
    }
   ],
   "source": [
    "pd.isnull(nrinkinys).sum()"
   ]
  },
  {
   "cell_type": "markdown",
   "id": "367d7a6f",
   "metadata": {},
   "source": [
    "# 1. Koks procentas regijonų turi parkavimo vietas automobiliams?"
   ]
  },
  {
   "cell_type": "code",
   "execution_count": 11,
   "id": "36b21989",
   "metadata": {},
   "outputs": [
    {
     "data": {
      "text/plain": [
       "Yra     2927\n",
       "Nera     519\n",
       "Name: Parking, dtype: int64"
      ]
     },
     "execution_count": 11,
     "metadata": {},
     "output_type": "execute_result"
    }
   ],
   "source": [
    "nrinkinys[\"Parking\"].value_counts()"
   ]
  },
  {
   "cell_type": "code",
   "execution_count": 12,
   "id": "c55047f9",
   "metadata": {
    "scrolled": true
   },
   "outputs": [
    {
     "data": {
      "image/png": "[encoded data removed]",
      "text/plain": [
       "<Figure size 288x288 with 1 Axes>"
      ]
     },
     "metadata": {},
     "output_type": "display_data"
    }
   ],
   "source": [
    "import matplotlib.pyplot as plt\n",
    "fig, ax = plt.subplots(figsize=(4, 4))\n",
    "ax.set_title(\"Automobilio parkavimo vietų (turi ar neturi) palyginimas (%) \", size =15)\n",
    "explode=(0, 0.08)\n",
    "ax.pie(x=nrinkinys[\"Parking\"].value_counts().values, labels=['Turi', 'Neturi'], autopct='%.1f%%', explode=explode)\n",
    "plt.show()"
   ]
  },
  {
   "cell_type": "markdown",
   "id": "fc90b93c",
   "metadata": {},
   "source": [
    "# 2. Kokių namų pagal kambarių kiekį yra daugiausia?"
   ]
  },
  {
   "cell_type": "code",
   "execution_count": 13,
   "id": "80514cfe",
   "metadata": {},
   "outputs": [
    {
     "data": {
      "image/png": "[encoded data removed]",
      "text/plain": [
       "<Figure size 432x288 with 1 Axes>"
      ]
     },
     "metadata": {
      "needs_background": "light"
     },
     "output_type": "display_data"
    }
   ],
   "source": [
    "import seaborn as sns\n",
    "dt_room = sns.countplot(x ='Room', data = nrinkinys, palette=\"Set2\").set(title=\"Kambarių kiekio palyginimas \",\n",
    "                                                                         xlabel=\"Kambarių kiekis\", ylabel=\"Namų kiekis\")\n"
   ]
  },
  {
   "cell_type": "markdown",
   "id": "d1efdb1e",
   "metadata": {},
   "source": [
    "# 3. Kokie 10 regionų yra labiausiai siūlomi?"
   ]
  },
  {
   "cell_type": "code",
   "execution_count": 14,
   "id": "adc99eda",
   "metadata": {
    "scrolled": true
   },
   "outputs": [
    {
     "data": {
      "image/png": "[encoded data removed]",
      "text/plain": [
       "<Figure size 648x432 with 1 Axes>"
      ]
     },
     "metadata": {
      "needs_background": "light"
     },
     "output_type": "display_data"
    }
   ],
   "source": [
    "pirmos10_index=nrinkinys[\"Address\"].value_counts().head(10).index\n",
    "pirmos10_values=nrinkinys[\"Address\"].value_counts().head(10).values\n",
    "\n",
    "fig, ax = plt.subplots(figsize=(9, 6))\n",
    "sns.barplot(x=pirmos10_index, y=pirmos10_values, palette=\"Blues_d\").set_title('TOP 10 regionų pasiūla', fontdict= { 'fontsize': 16,'fontweight':'bold'})\n",
    "\n",
    "plt.xticks(rotation=270)\n",
    "ax.set_ylabel('Pasiūla', size =12)\n",
    "ax.set_xlabel('Regiono pavadinimas', size =12)\n",
    "for p in ax.patches: \n",
    "    spacing = 0.2 if p.get_height() > 999  else 0.25\n",
    "    ax.annotate(int(p.get_height()), (p.get_x()+ spacing, p.get_height()+0.4 ) );\n",
    "    \n"
   ]
  }
 ],
 "metadata": {
  "kernelspec": {
   "display_name": "Python 3",
   "language": "python",
   "name": "python3"
  },
  "language_info": {
   "codemirror_mode": {
    "name": "ipython",
    "version": 3
   },
   "file_extension": ".py",
   "mimetype": "text/x-python",
   "name": "python",
   "nbconvert_exporter": "python",
   "pygments_lexer": "ipython3",
   "version": "3.8.8"
  }
 },
 "nbformat": 4,
 "nbformat_minor": 5
}
